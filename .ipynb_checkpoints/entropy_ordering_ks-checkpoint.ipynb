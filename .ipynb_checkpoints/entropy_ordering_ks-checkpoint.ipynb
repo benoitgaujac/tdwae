{
 "cells": [
  {
   "cell_type": "code",
   "execution_count": 149,
   "metadata": {},
   "outputs": [],
   "source": [
    "import numpy as np\n",
    "import scipy.stats as scistats\n",
    "import matplotlib.pyplot as plt"
   ]
  },
  {
   "cell_type": "markdown",
   "metadata": {},
   "source": [
    "## Build sample data"
   ]
  },
  {
   "cell_type": "code",
   "execution_count": 150,
   "metadata": {},
   "outputs": [
    {
     "data": {
      "text/plain": [
       "array([2.49268338e-01, 2.82022476e-01, 2.34346686e-01, 1.43018562e-01,\n",
       "       6.41039053e-02, 2.11025561e-02, 5.10204322e-03, 9.05965574e-04,\n",
       "       1.18151095e-04, 1.13167650e-05])"
      ]
     },
     "execution_count": 150,
     "metadata": {},
     "output_type": "execute_result"
    }
   ],
   "source": [
    "# Example of basic building block of data\n",
    "sigma = .2\n",
    "p = scistats.norm.pdf(np.linspace(0,1,10), .1, sigma)\n",
    "p/=p.sum()\n",
    "p"
   ]
  },
  {
   "cell_type": "code",
   "execution_count": 151,
   "metadata": {},
   "outputs": [],
   "source": [
    "# Actual data set creation\n",
    "sigma_for_sigma = 0.2\n",
    "digit_ps = []\n",
    "for i in range(10):\n",
    "    sigma = np.abs(np.random.normal(0,sigma_for_sigma))\n",
    "    p = scistats.norm.pdf(np.linspace(0,1,10), (i+.5)/10, sigma)\n",
    "    digit_ps.append(p/p.sum())\n",
    "digit_ps = np.asarray(digit_ps)\n",
    "digit_shuffled = digit_ps.copy()\n",
    "np.random.shuffle(digit_shuffled)"
   ]
  },
  {
   "cell_type": "markdown",
   "metadata": {},
   "source": [
    "## Plotting tools"
   ]
  },
  {
   "cell_type": "code",
   "execution_count": 229,
   "metadata": {},
   "outputs": [],
   "source": [
    "def heatmap_fromlist(digit_list, title=\"digits vs probs\", size=5):\n",
    "    plt.figure(figsize=(size,size))\n",
    "    plt.imshow(digit_list, cmap='hot', interpolation='nearest')\n",
    "    plt.title(title)\n",
    "    plt.show()"
   ]
  },
  {
   "cell_type": "code",
   "execution_count": 230,
   "metadata": {},
   "outputs": [
    {
     "data": {
      "image/png": "[encoded data removed]",
      "text/plain": [
       "<matplotlib.figure.Figure at 0x7f36fd6e2518>"
      ]
     },
     "metadata": {},
     "output_type": "display_data"
    },
    {
     "data": {
      "image/png": "[encoded data removed]",
      "text/plain": [
       "<matplotlib.figure.Figure at 0x7f36fda48c88>"
      ]
     },
     "metadata": {},
     "output_type": "display_data"
    }
   ],
   "source": [
    "# Visualisation of dataset used\n",
    "heatmap_fromlist(digit_ps, size=4)\n",
    "heatmap_fromlist(digit_shuffled, size=4)"
   ]
  },
  {
   "cell_type": "markdown",
   "metadata": {},
   "source": [
    "## Sorting algorithm"
   ]
  },
  {
   "cell_type": "code",
   "execution_count": 158,
   "metadata": {},
   "outputs": [],
   "source": [
    "# First calculate the entropy of each row\n",
    "def calculate_row_entropy(digit_list):\n",
    "    \n",
    "    entropies = []\n",
    "    for digit_probs in digit_list:\n",
    "        entropies.append(scistats.entropy(digit_probs))\n",
    "    entropies = np.asarray(entropies)\n",
    "    \n",
    "    return entropies"
   ]
  },
  {
   "cell_type": "code",
   "execution_count": 223,
   "metadata": {},
   "outputs": [],
   "source": [
    "# Then determine relabelling mask\n",
    "def relabelling_mask(digit_list, entropies):\n",
    "    \n",
    "    max_entropy_state = np.ones(len(entropies))/len(entropies)\n",
    "    max_entropy = scistats.entropy(max_entropy_state)\n",
    "    mask = np.arange(10)\n",
    "    \n",
    "    while np.min(entropies) < max_entropy:\n",
    "        digit_idx = np.argmin(entropies)\n",
    "        k_val = np.argmax(digit_list[digit_idx])\n",
    "        mask[k_val] = digit_idx\n",
    "        entropies[digit_idx] = max_entropy\n",
    "        \n",
    "    return mask"
   ]
  },
  {
   "cell_type": "code",
   "execution_count": 235,
   "metadata": {},
   "outputs": [
    {
     "data": {
      "image/png": "[encoded data removed]",
      "text/plain": [
       "<matplotlib.figure.Figure at 0x7f36fcf2bc18>"
      ]
     },
     "metadata": {},
     "output_type": "display_data"
    },
    {
     "data": {
      "image/png": "[encoded data removed]",
      "text/plain": [
       "<matplotlib.figure.Figure at 0x7f36fcf2b438>"
      ]
     },
     "metadata": {},
     "output_type": "display_data"
    },
    {
     "data": {
      "image/png": "[encoded data removed]",
      "text/plain": [
       "<matplotlib.figure.Figure at 0x7f36fcf8b908>"
      ]
     },
     "metadata": {},
     "output_type": "display_data"
    },
    {
     "name": "stdout",
     "output_type": "stream",
     "text": [
      "The mask replaces rows:\n",
      "[0 1 2 3 4 5 6 7 8 9]\n",
      "in the shuffled labelling, with the correct rows given by:\n",
      "[8 3 2 7 5 0 6 4 1 9]\n"
     ]
    }
   ],
   "source": [
    "heatmap_fromlist(digit_ps, title=\"Correct Sorting\", size=5)\n",
    "heatmap_fromlist(digit_shuffled, title=\"Shuffled\", size=5)\n",
    "\n",
    "shuffled_mask = relabelling_mask(digit_shuffled, calculate_row_entropy(digit_shuffled))\n",
    "heatmap_fromlist(digit_shuffled[shuffled_mask], title=\"Resorted Using Mask\", size=5)\n",
    "\n",
    "print(\"The mask replaces rows:\")\n",
    "print(np.arange(10))\n",
    "print(\"in the shuffled labelling, with the correct rows given by:\")\n",
    "print(shuffled_mask)"
   ]
  },
  {
   "cell_type": "code",
   "execution_count": null,
   "metadata": {},
   "outputs": [],
   "source": []
  }
 ],
 "metadata": {
  "kernelspec": {
   "display_name": "Python 3",
   "language": "python",
   "name": "python3"
  },
  "language_info": {
   "codemirror_mode": {
    "name": "ipython",
    "version": 3
   },
   "file_extension": ".py",
   "mimetype": "text/x-python",
   "name": "python",
   "nbconvert_exporter": "python",
   "pygments_lexer": "ipython3",
   "version": "3.5.3"
  }
 },
 "nbformat": 4,
 "nbformat_minor": 2
}
